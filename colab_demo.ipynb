{
  "cells": [
    {
      "cell_type": "markdown",
      "metadata": {
        "id": "EVwXaazHg-RT"
      },
      "source": [
        "# ⭐Nessie-Pytorch Demo"
      ]
    },
    {
      "cell_type": "markdown",
      "metadata": {
        "id": "B8cSUQZng-RW"
      },
      "source": [
        "PyTorch Implementation for Neural Estimation of Stochastic Simulations for Inference and Exploration  \n",
        "\n",
        "Reproduction of the paper: A. Sukys, K. Öcal and R. Grima, \"Approximating Solutions of the Chemical Master Equation using Neural Networks\", iScience 25(9) (2022)  \n",
        "\n",
        "Original Repository: https://github.com/augustinas1/Nessie"
      ]
    },
    {
      "cell_type": "code",
      "execution_count": null,
      "metadata": {
        "cellView": "form",
        "id": "PTqBvu33g-RX"
      },
      "outputs": [],
      "source": [
        "#@title # 📦Download Code and Data Resources\n",
        "#@markdown ##Clone Repository\n",
        "!git clone https://github.com/Carzit/Nessie-PyTorch.git\n",
        "%cd Nessie-PyTorch"
      ]
    },
    {
      "cell_type": "code",
      "execution_count": null,
      "metadata": {
        "cellView": "form",
        "id": "H8oKaqUgg-RY"
      },
      "outputs": [],
      "source": [
        "#@markdown ##Download Simulation Data\n",
        "#@markdown from https://huggingface.co/datasets/Carzit/Nessie\n",
        "DATA_FILE = \"data_ssa.json\" #@param [\"data_ssa.json\", \"data_dssa.json\"]\n",
        "from huggingface_hub import hf_hub_download\n",
        "hf_hub_download(\"Carzit/Nessie\", DATA_FILE, repo_type=\"dataset\", local_dir=\"/content/Nessie-PyTorch/data\")"
      ]
    },
    {
      "cell_type": "code",
      "execution_count": null,
      "metadata": {
        "cellView": "form",
        "id": "fsAExY1ig-RY"
      },
      "outputs": [],
      "source": [
        "#@title # 🏗️Preprocess Data\n",
        "\n",
        "from os.path import split\n",
        "#@markdown ##Preprocess Configs\n",
        "#@markdown ---\n",
        "DATA_PATH = \"data/data_ssa.json\" #@param {type:\"string\"}\n",
        "SAVE_PATH = \"data/data_ssa.pt\" #@param {type:\"string\"}\n",
        "#@markdown ---\n",
        "#@markdown When the dataset consists of multiple edge distributions, enable to split the dataset into single edge distribution datasets.\n",
        "SPLIT = False #@param {type:\"boolean\"}\n",
        "\n",
        "!python preprocess.py --data {DATA_PATH} --save {SAVE_PATH} --split {SPLIT}"
      ]
    },
    {
      "cell_type": "code",
      "execution_count": null,
      "metadata": {
        "cellView": "form",
        "id": "uB8WEDSZg-RZ"
      },
      "outputs": [],
      "source": [
        "#@title #⚙️Launch TensorBoard\n",
        "\n",
        "#@markdown ## Launch TensorBoard\n",
        "#@markdown Launch tensorboard to track training. Manually update after each epoch to get the latest results.\n",
        "\n",
        "LOG_DIR = \"log\" #@param {type:\"string\"}\n",
        "%load_ext tensorboard\n",
        "%tensorboard --logdir {LOG_DIR}"
      ]
    },
    {
      "cell_type": "code",
      "execution_count": null,
      "metadata": {
        "cellView": "form",
        "id": "adB1MOafg-RZ"
      },
      "outputs": [],
      "source": [
        "#@title #🚀Strat Training\n",
        "#@markdown ## Training Configs\n",
        "\n",
        "#@markdown ---\n",
        "DATASET_PATH = \"data/data_ssa.pt\" #@param {type:\"string\"}\n",
        "MODEL_NAME = \"Demo\" #@param {type:\"string\"}\n",
        "#@markdown ---\n",
        "BATCH_SIZE = 1 #@param {type:\"integer\"}\n",
        "SHUFFLE = True #@param {type:\"boolean\"}\n",
        "#@markdown ---\n",
        "DISTRIBUTION = \"NegativeBinomial\" #@param [\"NegativeBinomial\", \"Poisson\", \"MultivariateNormal2D\"]\n",
        "INPUT_SIZE = 5 #@param {type:\"integer\"}\n",
        "OUTPUT_SIZE = 4 #@param {type:\"integer\"}\n",
        "HIDDEN_SIZE = 128 #@param {type:\"integer\"}\n",
        "#@markdown ---\n",
        "MAX_EPOCHES = 20 #@param {type:\"integer\"}\n",
        "LEARNING_RATE = 0.0005 #@param {type:\"slider\", min:0.0, max:0.05, step:0.0001}\n",
        "SAMPLE_BATCH = 5000 #@param {type:\"integer\"}\n",
        "\n",
        "!python train.py --dataset {DATASET_PATH} --batch_size {BATCH_SIZE} --shuffle {SHUFFLE} --distribution {DISTRIBUTION} --input_size {INPUT_SIZE} --output_size {OUTPUT_SIZE} --hidden_size {HIDDEN_SIZE} --max_epoches {MAX_EPOCHES} --learning_rate {LEARNING_RATE} --model_name {MODEL_NAME} --sample_batch {SAMPLE_BATCH}"
      ]
    },
    {
      "cell_type": "code",
      "execution_count": null,
      "metadata": {
        "cellView": "form",
        "id": "ysQYo7z7g-RZ"
      },
      "outputs": [],
      "source": [
        "#@title #🔑Infer Results\n",
        "\n",
        "#@markdown ## Infer Configs\n",
        "#@markdown ---\n",
        "DATASET_PATH = \"data/data_ssa.pt\" #@param {type:\"string\"}\n",
        "MODEL_PATH = \"save/Demo_final.pt\" #@param {type:\"string\"}\n",
        "RESULT_PATH = \"infer/demo_result.pt\" #@param {type:\"string\"}\n",
        "#@markdown ---\n",
        "DISTRIBUTION = \"NegativeBinomial\" #@param [\"NegativeBinomial\", \"Poisson\", \"MultivariateNormal2D\"]\n",
        "INPUT_SIZE = 5 #@param {type:\"integer\"}\n",
        "OUTPUT_SIZE = 4 #@param {type:\"integer\"}\n",
        "HIDDEN_SIZE = 128 #@param {type:\"integer\"}\n",
        "\n",
        "\n",
        "!python inference.py --dataset {DATASET_PATH} --model {MODEL_PATH} --distribution {DISTRIBUTION} --input_size {INPUT_SIZE} --output_size {OUTPUT_SIZE} --hidden_size {HIDDEN_SIZE} --save_path {RESULT_PATH}"
      ]
    },
    {
      "cell_type": "code",
      "execution_count": null,
      "metadata": {
        "cellView": "form",
        "id": "gagbksy_g-RZ"
      },
      "outputs": [],
      "source": [
        "#@title #📈Visualization\n",
        "#@markdown ## Plot Configs\n",
        "RESULT_PATH = \"infer/demo_result.pt\" #@param {type:\"string\"}\n",
        "INDEX = 0 #@param {type:\"integer\"}\n",
        "SAVE_DIR = \"infer/demo_result\" #@param {type:\"string\"}\n",
        "\n",
        "!python plot.py --results {RESULT_PATH} --index {INDEX} --save_dir {SAVE_DIR}\n",
        "\n"
      ]
    },
    {
      "cell_type": "code",
      "execution_count": null,
      "metadata": {
        "cellView": "form",
        "id": "qo_PZM5jm9uF"
      },
      "outputs": [],
      "source": [
        "#@markdown ## Show Plots\n",
        "import os\n",
        "from IPython.display import display, Image\n",
        "\n",
        "folder_path = SAVE_DIR\n",
        "\n",
        "for file in os.listdir(folder_path):\n",
        "    if file.endswith('.png'):\n",
        "        image_path = os.path.join(folder_path, file)\n",
        "        display(Image(filename=image_path))"
      ]
    }
  ],
  "metadata": {
    "colab": {
      "provenance": []
    },
    "kernelspec": {
      "display_name": "Python 3",
      "name": "python3"
    },
    "language_info": {
      "name": "python"
    }
  },
  "nbformat": 4,
  "nbformat_minor": 0
}
